{
 "cells": [
  {
   "cell_type": "markdown",
   "id": "1de6fc68-93ca-4dae-b6b1-b1e16105afb8",
   "metadata": {},
   "source": [
    "## A1)\n",
    "we use # to comment out codes\n",
    "there are 3 types of comments in python\n",
    "1) single line \n",
    "2) multi line \n",
    "3) doc string "
   ]
  },
  {
   "cell_type": "markdown",
   "id": "fb06e2bf-2d52-4e5f-a0e5-cb61ecd842f5",
   "metadata": {},
   "source": [
    "## A2)\n",
    "variable is a name to which values are assigned.\n",
    "\n",
    "p = [1,2,7,8,6,9]"
   ]
  },
  {
   "cell_type": "markdown",
   "id": "8da0fb13-729b-430a-a983-8873a2537f85",
   "metadata": {},
   "source": [
    "## A3)\n",
    "Typecasting is used to convert one data type to another."
   ]
  },
  {
   "cell_type": "markdown",
   "id": "27e9520f-de1a-4e0b-bc10-a97a56123b94",
   "metadata": {},
   "source": [
    "## A4)\n",
    "SHIFT + ENTER is used to execute a python script from command line ."
   ]
  },
  {
   "cell_type": "code",
   "execution_count": null,
   "id": "4bef539c-c28b-47f6-a491-033bbd39fc3a",
   "metadata": {},
   "outputs": [],
   "source": [
    "## A5)\n",
    "my_list = [1,2,3,4,5]"
   ]
  },
  {
   "cell_type": "code",
   "execution_count": 34,
   "id": "e8c63c66-1df2-4ff9-b4b2-4174a681c5a9",
   "metadata": {},
   "outputs": [
    {
     "data": {
      "text/plain": [
       "[2, 3]"
      ]
     },
     "execution_count": 34,
     "metadata": {},
     "output_type": "execute_result"
    }
   ],
   "source": [
    "my_list[1:3]"
   ]
  },
  {
   "cell_type": "markdown",
   "id": "afd29cd8-a11d-4251-b8ec-176a02e15c2e",
   "metadata": {},
   "source": [
    "## A6)"
   ]
  },
  {
   "cell_type": "markdown",
   "id": "4f888fd7-e18f-4b95-b303-e631f138055f",
   "metadata": {},
   "source": [
    "Complex data type consists of two values one is real number and other one is imaginary number .\n"
   ]
  },
  {
   "cell_type": "code",
   "execution_count": 36,
   "id": "50ce4e2d-c966-4f45-8425-ab2ae3d035f4",
   "metadata": {},
   "outputs": [],
   "source": [
    "a = (78+9j)"
   ]
  },
  {
   "cell_type": "markdown",
   "id": "d6c00361-4475-466e-a447-46659ed9d655",
   "metadata": {},
   "source": [
    "## A7)"
   ]
  },
  {
   "cell_type": "markdown",
   "id": "82e58731-e1bd-463c-9d05-b5ec47f1dd94",
   "metadata": {},
   "source": [
    "The correct way to declare a variable named age is as follows:-\n"
   ]
  },
  {
   "cell_type": "code",
   "execution_count": 39,
   "id": "0eaa2fc6-55e8-4bd8-95f9-aac43797c296",
   "metadata": {},
   "outputs": [],
   "source": [
    "age = 25"
   ]
  },
  {
   "cell_type": "markdown",
   "id": "ef4fdfa6-8ec1-4eda-ac3e-a0f0fd511c49",
   "metadata": {},
   "source": [
    "# A8)"
   ]
  },
  {
   "cell_type": "code",
   "execution_count": 41,
   "id": "1312bae1-8943-442c-9f3d-6779ceaadcf2",
   "metadata": {},
   "outputs": [],
   "source": [
    "price = 9.99"
   ]
  },
  {
   "cell_type": "code",
   "execution_count": 42,
   "id": "228b07c8-5b06-4529-bb9a-e931ec93357e",
   "metadata": {},
   "outputs": [
    {
     "data": {
      "text/plain": [
       "float"
      ]
     },
     "execution_count": 42,
     "metadata": {},
     "output_type": "execute_result"
    }
   ],
   "source": [
    "type(price)"
   ]
  },
  {
   "cell_type": "markdown",
   "id": "8e351bfe-f01b-4021-90ae-f80abfff6688",
   "metadata": {},
   "source": [
    "the variable belongs to the float data type"
   ]
  },
  {
   "cell_type": "markdown",
   "id": "73995dd3-8ef8-4cb4-ad5d-5422d108a5ab",
   "metadata": {},
   "source": [
    "## A9)"
   ]
  },
  {
   "cell_type": "code",
   "execution_count": 43,
   "id": "65de7c0f-8888-4ca0-a87f-cf45b4b430c8",
   "metadata": {},
   "outputs": [],
   "source": [
    "name = (\"AMAN OSWAL\")"
   ]
  },
  {
   "cell_type": "code",
   "execution_count": 44,
   "id": "c15312b9-cf3d-46cb-9338-ef2b3b6c257c",
   "metadata": {},
   "outputs": [
    {
     "data": {
      "text/plain": [
       "'AMAN OSWAL'"
      ]
     },
     "execution_count": 44,
     "metadata": {},
     "output_type": "execute_result"
    }
   ],
   "source": [
    "name"
   ]
  },
  {
   "cell_type": "markdown",
   "id": "272075f0-d8c5-4a16-afdf-51f728d6d2de",
   "metadata": {},
   "source": [
    "## A10)"
   ]
  },
  {
   "cell_type": "code",
   "execution_count": 47,
   "id": "7c1fbb55-8a22-4523-bc56-d5850d0ef998",
   "metadata": {},
   "outputs": [],
   "source": [
    "a = (\"Hello,World!\")"
   ]
  },
  {
   "cell_type": "code",
   "execution_count": 53,
   "id": "b014ef86-536a-4c64-8536-66599277d3bd",
   "metadata": {},
   "outputs": [
    {
     "data": {
      "text/plain": [
       "'World!'"
      ]
     },
     "execution_count": 53,
     "metadata": {},
     "output_type": "execute_result"
    }
   ],
   "source": [
    "a[6:12]"
   ]
  },
  {
   "cell_type": "markdown",
   "id": "4b3dc023-9a65-4ebf-9f00-c8128701f2a6",
   "metadata": {},
   "source": [
    "## A11)\n"
   ]
  },
  {
   "cell_type": "code",
   "execution_count": 54,
   "id": "f38c5e98-5fb8-443d-940a-00c847cccafe",
   "metadata": {},
   "outputs": [],
   "source": [
    "Is_student = True"
   ]
  },
  {
   "cell_type": "code",
   "execution_count": null,
   "id": "22df12f0-f220-41c6-b19a-26bbf2657b25",
   "metadata": {},
   "outputs": [],
   "source": []
  }
 ],
 "metadata": {
  "kernelspec": {
   "display_name": "Python 3 (ipykernel)",
   "language": "python",
   "name": "python3"
  },
  "language_info": {
   "codemirror_mode": {
    "name": "ipython",
    "version": 3
   },
   "file_extension": ".py",
   "mimetype": "text/x-python",
   "name": "python",
   "nbconvert_exporter": "python",
   "pygments_lexer": "ipython3",
   "version": "3.10.8"
  }
 },
 "nbformat": 4,
 "nbformat_minor": 5
}

{
 "cells": [
  {
   "cell_type": "code",
   "execution_count": 1,
   "id": "29d5c525-2e6c-4148-8c7a-3b465ecef7b1",
   "metadata": {},
   "outputs": [],
   "source": [
    "#q1"
   ]
  },
  {
   "cell_type": "code",
   "execution_count": 2,
   "id": "a21dd874-78bf-44a6-b5a1-a5f7bdd4dceb",
   "metadata": {},
   "outputs": [],
   "source": [
    "a = \"aman\""
   ]
  },
  {
   "cell_type": "code",
   "execution_count": 6,
   "id": "74485dac-1e76-471d-9ae3-50d5eff3d8e1",
   "metadata": {},
   "outputs": [],
   "source": [
    "b = [1,2,3,4,5,5,6,6,6,7,77,7,7,7,]"
   ]
  },
  {
   "cell_type": "code",
   "execution_count": 7,
   "id": "ff0e6878-1cb2-4c02-9f4a-24b7a2eec27e",
   "metadata": {},
   "outputs": [],
   "source": [
    "c = 34.67"
   ]
  },
  {
   "cell_type": "code",
   "execution_count": 8,
   "id": "8846a332-97f9-49a7-8332-e3cba79ab82d",
   "metadata": {},
   "outputs": [],
   "source": [
    "#q2"
   ]
  },
  {
   "cell_type": "code",
   "execution_count": 9,
   "id": "c59494eb-608d-4b27-9735-c0b74c428619",
   "metadata": {},
   "outputs": [
    {
     "data": {
      "text/plain": [
       "str"
      ]
     },
     "execution_count": 9,
     "metadata": {},
     "output_type": "execute_result"
    }
   ],
   "source": [
    "var1 = ''\n",
    "type(var1)"
   ]
  },
  {
   "cell_type": "code",
   "execution_count": 11,
   "id": "a8d80fc5-ff14-4750-9f14-6c1ab2dc1ac4",
   "metadata": {},
   "outputs": [
    {
     "data": {
      "text/plain": [
       "str"
      ]
     },
     "execution_count": 11,
     "metadata": {},
     "output_type": "execute_result"
    }
   ],
   "source": [
    "var2 = '[DS,ML,PYTHON]'\n",
    "type(var2)"
   ]
  },
  {
   "cell_type": "code",
   "execution_count": 13,
   "id": "465762d4-b99b-4843-9d3a-da3701e26dac",
   "metadata": {},
   "outputs": [
    {
     "data": {
      "text/plain": [
       "list"
      ]
     },
     "execution_count": 13,
     "metadata": {},
     "output_type": "execute_result"
    }
   ],
   "source": [
    "var3 = ['DS','ML','PYTHON']\n",
    "type(var3)"
   ]
  },
  {
   "cell_type": "code",
   "execution_count": 15,
   "id": "80572920-872a-4ddd-b3fe-c0ad912acec0",
   "metadata": {},
   "outputs": [
    {
     "data": {
      "text/plain": [
       "int"
      ]
     },
     "execution_count": 15,
     "metadata": {},
     "output_type": "execute_result"
    }
   ],
   "source": [
    "var4 = 1\n",
    "type(var4)"
   ]
  },
  {
   "cell_type": "code",
   "execution_count": 16,
   "id": "5f9da031-9e7d-4a7d-8450-c3f0dd164fea",
   "metadata": {},
   "outputs": [],
   "source": [
    "#q3"
   ]
  },
  {
   "cell_type": "code",
   "execution_count": 20,
   "id": "b0173e37-bd27-4a56-8538-44b0015a5f06",
   "metadata": {},
   "outputs": [
    {
     "name": "stdout",
     "output_type": "stream",
     "text": [
      "1.2407407407407407\n"
     ]
    }
   ],
   "source": [
    "#/ - this is a division operator .the division operator returns the quotient of the division.\n",
    "#example \n",
    "b = 67/54\n",
    "print(b)"
   ]
  },
  {
   "cell_type": "code",
   "execution_count": 22,
   "id": "10ef53fd-68ab-4040-86af-2d3c5ace39aa",
   "metadata": {},
   "outputs": [
    {
     "data": {
      "text/plain": [
       "2"
      ]
     },
     "execution_count": 22,
     "metadata": {},
     "output_type": "execute_result"
    }
   ],
   "source": [
    "#% - percentage operator. the percentage operator gives the remainder of the division\n",
    "#example\n",
    "98%6"
   ]
  },
  {
   "cell_type": "code",
   "execution_count": 23,
   "id": "7a6958f7-b8c8-40d4-9b6e-d981ca5b50c1",
   "metadata": {},
   "outputs": [
    {
     "data": {
      "text/plain": [
       "1"
      ]
     },
     "execution_count": 23,
     "metadata": {},
     "output_type": "execute_result"
    }
   ],
   "source": [
    "#// - floor division. floor division returns the nearest whole  number.\n",
    "#example\n",
    "98//56"
   ]
  },
  {
   "cell_type": "code",
   "execution_count": 24,
   "id": "b86749db-1ddd-4178-adae-44a8d01389aa",
   "metadata": {},
   "outputs": [
    {
     "data": {
      "text/plain": [
       "16777216"
      ]
     },
     "execution_count": 24,
     "metadata": {},
     "output_type": "execute_result"
    }
   ],
   "source": [
    "#** - power operator.the power opeartor multiplies the first argument with itself ,number of times the number in the second argument.\n",
    "#example\n",
    "8**8"
   ]
  },
  {
   "cell_type": "code",
   "execution_count": 25,
   "id": "f2fcfc4f-42e8-4c37-a801-caf498e90c06",
   "metadata": {},
   "outputs": [],
   "source": [
    "#q4"
   ]
  },
  {
   "cell_type": "code",
   "execution_count": 30,
   "id": "23bc1bfc-31de-4379-85ee-9a8b5a93c56b",
   "metadata": {},
   "outputs": [
    {
     "name": "stdout",
     "output_type": "stream",
     "text": [
      "1\n",
      "<class 'int'>\n",
      "2\n",
      "<class 'int'>\n",
      "3\n",
      "<class 'int'>\n",
      "True\n",
      "<class 'bool'>\n",
      "5\n",
      "<class 'int'>\n",
      "-9\n",
      "<class 'int'>\n",
      "56.67\n",
      "<class 'float'>\n",
      "7.8\n",
      "<class 'float'>\n",
      "9\n",
      "<class 'int'>\n",
      "aman\n",
      "<class 'str'>\n"
     ]
    }
   ],
   "source": [
    "a = [1,2,3,True,5,-9,56.67,7.8,9,\"aman\"]\n",
    "for i in a :\n",
    "    print(i)\n",
    "    print(type(i))\n"
   ]
  },
  {
   "cell_type": "code",
   "execution_count": 3,
   "id": "a6814f77-1f26-4842-800d-9a46e1057cef",
   "metadata": {},
   "outputs": [
    {
     "name": "stdin",
     "output_type": "stream",
     "text": [
      " 66\n",
      " 2\n"
     ]
    },
    {
     "name": "stdout",
     "output_type": "stream",
     "text": [
      "A is divisible by B\n",
      "A is divisible by B 33.0 times\n"
     ]
    }
   ],
   "source": [
    "#q5\n",
    "\n",
    "\n",
    "A = int(input())\n",
    "B = int(input())\n",
    "while A >= 0 or A < 0 :\n",
    "    if A%B == 0 :\n",
    "        print(\"A is divisible by B\")\n",
    "        print(\"A is divisible by B\", A/B , \"times\")\n",
    "    break\n",
    "        "
   ]
  },
  {
   "cell_type": "code",
   "execution_count": null,
   "id": "2382d241-3f4f-49cc-b5a2-5a2f686c9ed3",
   "metadata": {},
   "outputs": [],
   "source": [
    "#Q6"
   ]
  },
  {
   "cell_type": "code",
   "execution_count": 10,
   "id": "7a9f40f6-3b0f-406f-989b-1a577b8eec8f",
   "metadata": {},
   "outputs": [
    {
     "name": "stdout",
     "output_type": "stream",
     "text": [
      "element 1 is not divisible by 3\n",
      "element 2 is not divisible by 3\n",
      "element 3 is divisible by 3\n",
      "element 3 is not divisible by 3\n",
      "element 4 is not divisible by 3\n",
      "element 5 is not divisible by 3\n",
      "element 6 is divisible by 3\n",
      "element 6 is not divisible by 3\n",
      "element 7 is not divisible by 3\n",
      "element 8 is not divisible by 3\n",
      "element 9 is divisible by 3\n",
      "element 9 is not divisible by 3\n",
      "element 0 is divisible by 3\n",
      "element 0 is not divisible by 3\n",
      "element 22 is not divisible by 3\n",
      "element 33 is divisible by 3\n",
      "element 33 is not divisible by 3\n",
      "element 44 is not divisible by 3\n",
      "element 55 is not divisible by 3\n",
      "element 66 is divisible by 3\n",
      "element 66 is not divisible by 3\n",
      "element 77 is not divisible by 3\n",
      "element 88 is not divisible by 3\n",
      "element 99 is divisible by 3\n",
      "element 99 is not divisible by 3\n",
      "element 89 is not divisible by 3\n",
      "element 56 is not divisible by 3\n",
      "element 78 is divisible by 3\n",
      "element 78 is not divisible by 3\n",
      "element 66767 is not divisible by 3\n",
      "element 56 is not divisible by 3\n",
      "element 99 is divisible by 3\n",
      "element 99 is not divisible by 3\n",
      "element 990989 is not divisible by 3\n",
      "sorry\n"
     ]
    }
   ],
   "source": [
    "m = [1,2,3,4,5,6,7,8,9,0,22,33,44,55,66,77,88,99,89,56,78,66767,56,99,990989]\n",
    "for i in m :\n",
    "    if i%3 == 0 :\n",
    "        print(\"element\", i,\"is divisible by 3\")\n",
    "    print(\"element\", i,\"is not divisible by 3\")\n",
    "else :\n",
    "    print(\"sorry\")\n",
    "\n",
    "    "
   ]
  },
  {
   "cell_type": "code",
   "execution_count": 9,
   "id": "bf1f5777-4306-423f-8e2b-7f5fc3e2f9ed",
   "metadata": {},
   "outputs": [],
   "source": [
    "#q7\n",
    "#string = immutable object whereas\n",
    "#list = mutable object\n",
    "#list lets you mutate for a particular index whereas string doesnt let you change at particular index\n",
    "#list lets you change or replace the item whereas string neglects from assigning an item."
   ]
  },
  {
   "cell_type": "code",
   "execution_count": 10,
   "id": "eb92b509-53e7-4074-9a80-d0e5e291e78a",
   "metadata": {},
   "outputs": [],
   "source": [
    "#this is an example of list which is a mmutable object\n",
    "\n",
    "b = [1,2,3,4,5,True,12.55]"
   ]
  },
  {
   "cell_type": "code",
   "execution_count": 11,
   "id": "97311a44-5196-4ccb-918b-3cd91474428c",
   "metadata": {},
   "outputs": [],
   "source": [
    "b[4] = False"
   ]
  },
  {
   "cell_type": "code",
   "execution_count": 12,
   "id": "c6cedda2-3da7-4f18-9027-5f127231fa79",
   "metadata": {},
   "outputs": [
    {
     "data": {
      "text/plain": [
       "[1, 2, 3, 4, False, True, 12.55]"
      ]
     },
     "execution_count": 12,
     "metadata": {},
     "output_type": "execute_result"
    }
   ],
   "source": [
    "b"
   ]
  },
  {
   "cell_type": "code",
   "execution_count": null,
   "id": "1a232302-d1e3-41d0-9ed3-5c99ac7462b3",
   "metadata": {},
   "outputs": [],
   "source": []
  },
  {
   "cell_type": "code",
   "execution_count": 3,
   "id": "4bb8cca6-fb5d-4f3f-8f8f-e097be74b7fa",
   "metadata": {},
   "outputs": [],
   "source": [
    "#this is an example of string which is an immutable object\n",
    "\n",
    "a = \"hriday\""
   ]
  },
  {
   "cell_type": "code",
   "execution_count": 4,
   "id": "e992ef8a-536e-4246-b050-8e6af4482c0c",
   "metadata": {},
   "outputs": [
    {
     "data": {
      "text/plain": [
       "'d'"
      ]
     },
     "execution_count": 4,
     "metadata": {},
     "output_type": "execute_result"
    }
   ],
   "source": [
    "a[3]"
   ]
  },
  {
   "cell_type": "code",
   "execution_count": 5,
   "id": "d6bd27e5-4a99-408b-a455-a1a77db87dfe",
   "metadata": {},
   "outputs": [
    {
     "ename": "TypeError",
     "evalue": "'str' object does not support item assignment",
     "output_type": "error",
     "traceback": [
      "\u001b[0;31m---------------------------------------------------------------------------\u001b[0m",
      "\u001b[0;31mTypeError\u001b[0m                                 Traceback (most recent call last)",
      "Cell \u001b[0;32mIn[5], line 1\u001b[0m\n\u001b[0;32m----> 1\u001b[0m \u001b[43ma\u001b[49m\u001b[43m[\u001b[49m\u001b[38;5;241;43m3\u001b[39;49m\u001b[43m]\u001b[49m \u001b[38;5;241m=\u001b[39m \u001b[38;5;124m\"\u001b[39m\u001b[38;5;124mn\u001b[39m\u001b[38;5;124m\"\u001b[39m\n",
      "\u001b[0;31mTypeError\u001b[0m: 'str' object does not support item assignment"
     ]
    }
   ],
   "source": [
    "a[3] = \"n\""
   ]
  },
  {
   "cell_type": "code",
   "execution_count": null,
   "id": "58b0f91e-09d3-41b3-86e0-b25f6aca6df9",
   "metadata": {},
   "outputs": [],
   "source": []
  }
 ],
 "metadata": {
  "kernelspec": {
   "display_name": "Python 3 (ipykernel)",
   "language": "python",
   "name": "python3"
  },
  "language_info": {
   "codemirror_mode": {
    "name": "ipython",
    "version": 3
   },
   "file_extension": ".py",
   "mimetype": "text/x-python",
   "name": "python",
   "nbconvert_exporter": "python",
   "pygments_lexer": "ipython3",
   "version": "3.10.8"
  }
 },
 "nbformat": 4,
 "nbformat_minor": 5
}
